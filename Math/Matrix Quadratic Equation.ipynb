{
 "cells": [
  {
   "cell_type": "markdown",
   "metadata": {},
   "source": [
    "# Matrix Quadratic Equations\n",
    "The matrix quadratic equation (at least as I define it here) is a scalar valued equation of the form\n",
    "\\begin{equation}\n",
    "\t\\mathbf{x}^\\top A \\mathbf{x} + \\mathbf{b}^\\top \\mathbf{x} + c = 0.\n",
    "\\end{equation}\n",
    "Where $\\mathbf{x} \\in \\mathbb{R}^{n \\times 1}$, $A \\in \\mathbb{R}^{n \\times n}$, $\\mathbf{b} \\in \\mathbb{R}^{n \\times 1}$, and $c \\in \\mathbb{R}^{1}$.\n",
    "\n",
    "Assuming $A$ is positive-definite, we can factor $A$ into the product of two lower-triangular matrices $L$ as $A = LL^\\top$ using the Cholesky factorization.\n",
    "Then we have\n",
    "\\begin{align}\n",
    "\t\\mathbf{x}^\\top A \\mathbf{x} &+ \\mathbf{b}^\\top \\mathbf{x} + c \\\\\n",
    "\t& = \\mathbf{x}^\\top L L^\\top \\mathbf{x} + \\mathbf{b}^\\top \\mathbf{x} + c \\\\\n",
    "\t& = (L^\\top \\mathbf{x})^\\top L^\\top \\mathbf{x} + \\mathbf{b}^\\top \\mathbf{x} + c.\n",
    "\\end{align}\n",
    "Let \n",
    "\\begin{equation}\n",
    "\t\\mathbf{d} = \\frac12 L^{-1} \\mathbf{b}.\n",
    "\\end{equation}\n",
    "Then\n",
    "\\begin{align}\n",
    "\t(L^\\top \\mathbf{x})^\\top L^\\top \\mathbf{x} &+ \\mathbf{b}^\\top \\mathbf{x} + c \\\\\n",
    "\t& = (L^\\top \\mathbf{x})^\\top L^\\top \\mathbf{x} + (2 L \\mathbf{d})^\\top \\mathbf{x} + c \\\\\n",
    "\t& = (L^\\top \\mathbf{x})^\\top L^\\top \\mathbf{x} + 2 \\mathbf{d}^\\top L^\\top \\mathbf{x} + c \\\\\n",
    "\t& = (L^\\top \\mathbf{x})^\\top L^\\top \\mathbf{x} + (L^\\top \\mathbf{x})^\\top \\mathbf{d} + \\mathbf{d}^\\top L^\\top \\mathbf{x} +  c \\\\\n",
    "\t& = (L^\\top \\mathbf{x})^\\top L^\\top \\mathbf{x} + (L^\\top \\mathbf{x})^\\top \\mathbf{d} + \\mathbf{d}^\\top L^\\top \\mathbf{x} + \\mathbf{d}^\\top \\mathbf{d} +  c - \\mathbf{d}^\\top \\mathbf{d} \\\\\n",
    "\t& = (L^\\top \\mathbf{x})^\\top (L^\\top \\mathbf{x} + \\mathbf{d}) + \\mathbf{d}^\\top (L^\\top \\mathbf{x} + \\mathbf{d}) + c - \\mathbf{d}^\\top \\mathbf{d} \\\\\n",
    "\t& = ((L^\\top \\mathbf{x})^\\top + \\mathbf{d}^\\top) (L^\\top \\mathbf{x} + \\mathbf{d}) + c - \\mathbf{d}^\\top \\mathbf{d} \\\\\n",
    "\t& = (L^\\top \\mathbf{x} + \\mathbf{d})^\\top (L^\\top \\mathbf{x} + \\mathbf{d}) + c - \\mathbf{d}^\\top \\mathbf{d} \\\\\n",
    "\t& = 0 \\\\\n",
    "\\end{align}\n",
    "Letting $\\mathbf{y} = L \\mathbf{x} + \\mathbf{d}$, and $f = \\mathbf{d}^\\top \\mathbf{d} - c$, we then have\n",
    "\\begin{equation}\n",
    "\\mathbf{y}^\\top \\mathbf{y} = f.\n",
    "\\end{equation}\n",
    "Since $f$ is a scalar, we can pick any $\\mathbf{y}$ such that\n",
    "\\begin{equation}\n",
    "\ty_0^2 + y_1^2 + \\dots + y_n^2 = f\n",
    "\\end{equation}\n",
    "One solution to this is\n",
    "\\begin{equation}\n",
    "\ty_0 = y_1 = \\dots = y_n = \\frac1n \\pm \\sqrt{f}.\n",
    "\\end{equation}\n",
    "\n",
    "\\subsection{Distribution of Binomial Matrix Equation}\n",
    "A binomial matrix equation\n",
    "\\begin{equation}\n",
    "(F\\mathbf{x} + \\mathbf{d})^\\top (F\\mathbf{x} + \\mathbf{d}) \n",
    "\\end{equation}\n",
    "can be distributed as\n",
    "\\begin{align}\n",
    "\t & (F\\mathbf{x} + \\mathbf{d})^\\top F\\mathbf{x} + (F\\mathbf{x} + \\mathbf{d})^\\top \\mathbf{d} \\\\\n",
    "\t & = (F\\mathbf{x})^\\top F\\mathbf{x} + \\mathbf{d}^\\top F\\mathbf{x} + (F\\mathbf{x})^\\top \\mathbf{d} + \\mathbf{d}^\\top \\mathbf{d} \\\\\n",
    "\t & = \\mathbf{x}^\\top F^\\top F\\mathbf{x} + 2 \\mathbf{d}^\\top F\\mathbf{x} + \\mathbf{d}^\\top \\mathbf{d}\n",
    " \\end{align}\n",
    "\n"
   ]
  }
 ],
 "metadata": {
  "kernelspec": {
   "display_name": "Python 3",
   "language": "python",
   "name": "python3"
  },
  "language_info": {
   "codemirror_mode": {
    "name": "ipython",
    "version": 3
   },
   "file_extension": ".py",
   "mimetype": "text/x-python",
   "name": "python",
   "nbconvert_exporter": "python",
   "pygments_lexer": "ipython3",
   "version": "3.6.9"
  },
  "latex_envs": {
   "LaTeX_envs_menu_present": true,
   "autoclose": false,
   "autocomplete": true,
   "bibliofile": "biblio.bib",
   "cite_by": "apalike",
   "current_citInitial": 1,
   "eqLabelWithNumbers": true,
   "eqNumInitial": 1,
   "hotkeys": {
    "equation": "Ctrl-E",
    "itemize": "Ctrl-I"
   },
   "labels_anchors": false,
   "latex_user_defs": false,
   "report_style_numbering": false,
   "user_envs_cfg": false
  }
 },
 "nbformat": 4,
 "nbformat_minor": 2
}
