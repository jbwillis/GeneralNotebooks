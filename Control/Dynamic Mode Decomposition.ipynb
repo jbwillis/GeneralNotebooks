{
 "cells": [
  {
   "cell_type": "markdown",
   "id": "ecc76297-474e-49a6-b5d9-b7956f7b5453",
   "metadata": {},
   "source": [
    "# Dynamic Mode Decomposition\n",
    "*(Based on the derivation in [Data-Driven Science and Engineering by Brunton and Kutz](http://www.databookuw.com))*\n",
    "\n",
    "\n",
    "Dynamic mode decomposition (DMD) is a method of finding a low-rank representation of the Koopman matrix $A$ that operates on a sequence of measurement snapshot pairs $\\{ \\mathbf{x}(t_k), \\mathbf{x}(t_k')\\}$ from a dynamical system.\n",
    "That is,\n",
    "\\begin{align}\n",
    "\\mathbf{x}(t_k') = A \\mathbf{x}(t_k)\n",
    "\\end{align}\n",
    "\n",
    "The snapshot pairs are assembled into matrices\n",
    "\\begin{align}\n",
    "X &= [\\mathbf{x}(t_1), \\mathbf{x}(t_2), \\dots, \\mathbf{x}(t_m) ]\\\\\n",
    "X' &= [\\mathbf{x}(t_1'), \\mathbf{x}(t_2'), \\dots, \\mathbf{x}(t_m') ]\n",
    "\\end{align}\n",
    "so that\n",
    "\\begin{align}\n",
    "X' = A X.\n",
    "\\end{align}\n",
    "The full-rank matrix $A$ can be found directly using the pseudo-inverse,\n",
    "\\begin{align}\n",
    "A = X' X^\\dagger.\n",
    "\\end{align}\n",
    "\n",
    "However, if the state dimension $n$ is very large, this could be computationally intractable, so we desire to find an approximation $\\tilde{A}$ with rank $r \\ll n$ that still captures the dominating dynamics of the system.\n",
    "The DMD finds this approximation, and importantly, it finds the dominating dynamic modes (eigenvectors) $\\Phi$ of the high dimensional system.\n",
    "\n",
    "## DMD algorithm for $\\tilde{A}$\n",
    "\n",
    "1. Compute the rank-reduced SVD of $X$.\n",
    "\n",
    "\\begin{align}\n",
    "X \\approx \\tilde{U} \\tilde{\\Sigma} \\tilde{V}^H\n",
    "\\end{align}\n",
    "\n",
    "2. Compute the reduced matrix $\\tilde{A}$\n",
    "\n",
    "\\begin{align}\n",
    "\\tilde{A} = \\tilde{U}^H X' \\tilde{V} \\tilde{\\Sigma}^{-1}\n",
    "\\end{align}\n",
    "\n",
    "## DMD algorithm for $\\Phi$\n",
    "\n",
    "3. Find the eigenvectors ($W$) and eigenvalues ($\\Lambda$) of $\\tilde{A}$.\n",
    "\n",
    "\\begin{align}\n",
    "\\tilde{A} W = W \\Lambda\n",
    "\\end{align}\n",
    "\n",
    "4. Compute the high-dimensional DMD modes\n",
    "\n",
    "\\begin{align}\n",
    "\\Phi = X' \\tilde{V} \\tilde{\\Sigma}^{-1} W\n",
    "\\end{align}\n"
   ]
  },
  {
   "cell_type": "code",
   "execution_count": 52,
   "id": "6ca65444-4938-42c0-97a0-c79d9d91b07a",
   "metadata": {
    "execution": {
     "iopub.execute_input": "2022-01-04T13:00:35.697000-05:00",
     "iopub.status.busy": "2022-01-04T13:00:35.697000-05:00",
     "iopub.status.idle": "2022-01-04T13:00:35.716000-05:00",
     "shell.execute_reply": "2022-01-04T13:00:35.716000-05:00"
    },
    "tags": []
   },
   "outputs": [
    {
     "data": {
      "text/plain": [
       "DMD_A (generic function with 1 method)"
      ]
     },
     "execution_count": 52,
     "metadata": {},
     "output_type": "execute_result"
    }
   ],
   "source": [
    "using LinearAlgebra\n",
    "\n",
    "function DMD_A(X, Xprime, r)\n",
    "    U, S, V = svd(X, full=false)\n",
    "    \n",
    "    Utilde = U[:, 1:r]\n",
    "    Stilde = S[1:r]\n",
    "    Vtilde = V[:, 1:r]\n",
    "    \n",
    "    Atilde = Utilde' * Xprime * Vtilde * diagm(Stilde.^(-1))\n",
    "    \n",
    "    W = eigvecs(Atilde)\n",
    "    Lambda = eigvals(Atilde)\n",
    "    Phi = Xprime * Vtilde * diagm(Stilde.^-1) * W\n",
    "    \n",
    "    return Atilde, Phi, Lambda\n",
    "end\n"
   ]
  },
  {
   "cell_type": "code",
   "execution_count": 48,
   "id": "9bd74ee2-9292-4e95-b54c-63d0ddf96b4a",
   "metadata": {
    "execution": {
     "iopub.execute_input": "2022-01-04T12:58:59.073000-05:00",
     "iopub.status.busy": "2022-01-04T12:58:59.073000-05:00",
     "iopub.status.idle": "2022-01-04T12:58:59.100000-05:00",
     "shell.execute_reply": "2022-01-04T12:58:59.100000-05:00"
    },
    "tags": []
   },
   "outputs": [
    {
     "data": {
      "text/plain": [
       "3×10 Matrix{Float64}:\n",
       " 1.0  0.0   0.0  -1.0   0.0  0.0  1.0  0.0   0.0  -1.0\n",
       " 0.0  0.0  -1.0   0.0   0.0  1.0  0.0  0.0  -1.0   0.0\n",
       " 0.0  0.5   0.0   0.0  -0.5  0.0  0.0  0.5   0.0   0.0"
      ]
     },
     "execution_count": 48,
     "metadata": {},
     "output_type": "execute_result"
    }
   ],
   "source": [
    "A = [0. 1. 0.; \n",
    "     0. 0. -2.;\n",
    "     .5 0. 0.]\n",
    "\n",
    "x0 = [1., 0., 0.]\n",
    "\n",
    "n = length(x0)\n",
    "m = 10\n",
    "\n",
    "X = zeros(n, m)\n",
    "\n",
    "X[:,1] = x0\n",
    "\n",
    "for i = 2:m\n",
    "    X[:,i] = A * X[:,i-1]\n",
    "end\n",
    "\n",
    "X"
   ]
  },
  {
   "cell_type": "code",
   "execution_count": 53,
   "id": "1a7a0ce7-ffd8-4f05-a226-aeecf2c6c7a1",
   "metadata": {
    "execution": {
     "iopub.execute_input": "2022-01-04T13:00:38.838000-05:00",
     "iopub.status.busy": "2022-01-04T13:00:38.837000-05:00",
     "iopub.status.idle": "2022-01-04T13:00:39.008000-05:00",
     "shell.execute_reply": "2022-01-04T13:00:39.008000-05:00"
    },
    "tags": []
   },
   "outputs": [
    {
     "name": "stdout",
     "output_type": "stream",
     "text": [
      "Atilde = [0.0 0.0 -2.0; 1.0000000000000002 0.0 3.2049378106392735e-16; 0.0 0.5 0.0]\n",
      "Phi = ComplexF64[-0.666666666666667 + 0.0im -0.6666666666666666 - 9.251858538542979e-17im -0.6666666666666666 + 9.251858538542979e-17im; 0.6666666666666669 + 0.0im -0.3333333333333327 + 0.5773502691896262im -0.3333333333333327 - 0.5773502691896262im; 0.3333333333333333 + 0.0im -0.16666666666666669 - 0.2886751345948128im -0.16666666666666669 + 0.2886751345948128im]\n"
     ]
    },
    {
     "data": {
      "text/plain": [
       "3×3 Matrix{ComplexF64}:\n",
       " -0.666667+0.0im  -0.666667-9.25186e-17im  -0.666667+9.25186e-17im\n",
       "  0.666667+0.0im  -0.333333+0.57735im      -0.333333-0.57735im\n",
       "  0.333333+0.0im  -0.166667-0.288675im     -0.166667+0.288675im"
      ]
     },
     "execution_count": 53,
     "metadata": {},
     "output_type": "execute_result"
    }
   ],
   "source": [
    "Atilde, Phi, Lambda = DMD_A(X[:,1:m-1], X[:,2:m], 3)\n",
    "@show Atilde\n",
    "@show Phi"
   ]
  },
  {
   "cell_type": "code",
   "execution_count": 56,
   "id": "0bc96a9e-18dd-4cb5-86f8-b2cee84a3b45",
   "metadata": {
    "execution": {
     "iopub.execute_input": "2022-01-04T13:00:56.152000-05:00",
     "iopub.status.busy": "2022-01-04T13:00:56.152000-05:00",
     "iopub.status.idle": "2022-01-04T13:00:56.168000-05:00",
     "shell.execute_reply": "2022-01-04T13:00:56.168000-05:00"
    },
    "tags": []
   },
   "outputs": [
    {
     "data": {
      "text/plain": [
       "3×3 Matrix{ComplexF64}:\n",
       " -0.666667+0.0im  0.666667-0.0im       0.666667+0.0im\n",
       "  0.666667+0.0im  0.333333-0.57735im   0.333333+0.57735im\n",
       "  0.333333+0.0im  0.166667+0.288675im  0.166667-0.288675im"
      ]
     },
     "execution_count": 56,
     "metadata": {},
     "output_type": "execute_result"
    }
   ],
   "source": [
    "eigvecs(A)"
   ]
  },
  {
   "cell_type": "code",
   "execution_count": 57,
   "id": "80826974-2f8e-450f-8ed7-6fe85fb3df33",
   "metadata": {
    "execution": {
     "iopub.execute_input": "2022-01-04T13:00:59.214000-05:00",
     "iopub.status.busy": "2022-01-04T13:00:59.214000-05:00",
     "iopub.status.idle": "2022-01-04T13:00:59.230000-05:00",
     "shell.execute_reply": "2022-01-04T13:00:59.230000-05:00"
    },
    "tags": []
   },
   "outputs": [
    {
     "data": {
      "text/plain": [
       "3×3 Matrix{ComplexF64}:\n",
       " -0.666667+0.0im  -0.666667-9.25186e-17im  -0.666667+9.25186e-17im\n",
       "  0.666667+0.0im  -0.333333+0.57735im      -0.333333-0.57735im\n",
       "  0.333333+0.0im  -0.166667-0.288675im     -0.166667+0.288675im"
      ]
     },
     "execution_count": 57,
     "metadata": {},
     "output_type": "execute_result"
    }
   ],
   "source": [
    "Phi"
   ]
  },
  {
   "cell_type": "code",
   "execution_count": 66,
   "id": "0d28c590-2fea-45a9-9e0d-cb389377a8c7",
   "metadata": {
    "execution": {
     "iopub.execute_input": "2022-01-04T13:04:39.771000-05:00",
     "iopub.status.busy": "2022-01-04T13:04:39.771000-05:00",
     "iopub.status.idle": "2022-01-04T13:04:39.787000-05:00",
     "shell.execute_reply": "2022-01-04T13:04:39.787000-05:00"
    },
    "tags": []
   },
   "outputs": [
    {
     "name": "stdout",
     "output_type": "stream",
     "text": [
      "A * x0 = [0.0, 0.0, 0.5]\n",
      "Phi * diagm(Lambda) * pinv(Phi) * x0 = ComplexF64[8.881784197001252e-16 + 0.0im, 1.6653345369377348e-16 + 1.1102230246251565e-16im, 0.5000000000000004 - 4.1368802094960244e-17im]\n"
     ]
    },
    {
     "data": {
      "text/plain": [
       "3-element Vector{ComplexF64}:\n",
       "  8.881784197001252e-16 + 0.0im\n",
       " 1.6653345369377348e-16 + 1.1102230246251565e-16im\n",
       "     0.5000000000000004 - 4.1368802094960244e-17im"
      ]
     },
     "execution_count": 66,
     "metadata": {},
     "output_type": "execute_result"
    }
   ],
   "source": [
    "@show A * x0\n",
    "@show (Phi) * diagm(Lambda) * pinv(Phi) * x0"
   ]
  },
  {
   "cell_type": "code",
   "execution_count": null,
   "id": "68b0b4cd-8428-4b8a-baf3-809271ea1340",
   "metadata": {},
   "outputs": [],
   "source": []
  }
 ],
 "metadata": {
  "kernelspec": {
   "display_name": "Julia 1.6.2",
   "language": "julia",
   "name": "julia-1.6"
  },
  "language_info": {
   "file_extension": ".jl",
   "mimetype": "application/julia",
   "name": "julia",
   "version": "1.6.2"
  }
 },
 "nbformat": 4,
 "nbformat_minor": 5
}
