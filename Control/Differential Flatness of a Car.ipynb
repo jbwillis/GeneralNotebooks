{
 "cells": [
  {
   "cell_type": "markdown",
   "metadata": {},
   "source": [
    "# Differential Flatness of a Car\n"
   ]
  },
  {
   "cell_type": "code",
   "execution_count": 7,
   "metadata": {},
   "outputs": [],
   "source": [
    "import numpy as np\n",
    "import matplotlib.pyplot as plt\n",
    "from scipy.optimize import minimize"
   ]
  },
  {
   "cell_type": "code",
   "execution_count": 12,
   "metadata": {},
   "outputs": [
    {
     "name": "stdout",
     "output_type": "stream",
     "text": [
      "4*xd**2*xddd**2 + 8*xd*xdd**2*xddd + 8*xd*xddd*yd*yddd + 8*xd*xddd*ydd**2 + 4*xdd**4 + 8*xdd**2*yd*yddd + 8*xdd**2*ydd**2 + 4*yd**2*yddd**2 + 8*yd*ydd**2*yddd + 4*ydd**4\n"
     ]
    }
   ],
   "source": [
    "import sympy as sp\n",
    "t = sp.symbols('t')\n",
    "\n",
    "xd, xdd, xddd, yd, ydd, yddd = sp.symbols('xd, xdd, xddd, yd, ydd, yddd')\n",
    "vdd = 2*xdd**2 + 2*xd*xddd + 2*ydd**2 + 2*yd*yddd\n",
    "vddsq = sp.expand(vdd**2)\n",
    "print(vddsq)"
   ]
  },
  {
   "cell_type": "code",
   "execution_count": 5,
   "metadata": {},
   "outputs": [
    {
     "name": "stdout",
     "output_type": "stream",
     "text": [
      "[0. 0. 0. 0. 0. 0.]\n"
     ]
    }
   ],
   "source": [
    "# time\n",
    "ts = 0\n",
    "te = 10\n",
    "\n",
    "# parameters 0:6 are p_xi 6:12 are p_yi\n",
    "P = np.zeros((12))\n",
    "\n",
    "\n",
    "# path derivatives\n",
    "def Pd(P,t):\n",
    "    \n",
    "    \n",
    "\n",
    "# objective function\n",
    "def Jmin(P):\n",
    "    \n",
    "\n"
   ]
  }
 ],
 "metadata": {
  "kernelspec": {
   "display_name": "Python 3",
   "language": "python",
   "name": "python3"
  },
  "language_info": {
   "codemirror_mode": {
    "name": "ipython",
    "version": 3
   },
   "file_extension": ".py",
   "mimetype": "text/x-python",
   "name": "python",
   "nbconvert_exporter": "python",
   "pygments_lexer": "ipython3",
   "version": "3.6.9"
  },
  "latex_envs": {
   "LaTeX_envs_menu_present": true,
   "autoclose": false,
   "autocomplete": true,
   "bibliofile": "biblio.bib",
   "cite_by": "apalike",
   "current_citInitial": 1,
   "eqLabelWithNumbers": true,
   "eqNumInitial": 1,
   "hotkeys": {
    "equation": "Ctrl-E",
    "itemize": "Ctrl-I"
   },
   "labels_anchors": false,
   "latex_user_defs": false,
   "report_style_numbering": false,
   "user_envs_cfg": false
  }
 },
 "nbformat": 4,
 "nbformat_minor": 2
}
