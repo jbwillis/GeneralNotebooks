{
 "cells": [
  {
   "cell_type": "markdown",
   "metadata": {},
   "source": [
    "# Adaptive Control\n",
    "This is notes on my class project developed for ECEN 671, Math of Signals and Systems.\n",
    "I am writing an adaptive controller to estimate the thrust parameters for the two dimensional VTOL simulation from ECEN 483.\n",
    "\n",
    "\\subsection{Problem Description} \n",
    "Adaptive control is the control of a system using techniques that estimate varying or unknown parameters.\n",
    "The idea is to make the system robust against variations in those parameters by predicting their value online.\n",
    "I am interested in Adaptive Control as an application of recursive least squares system identification.\n",
    "According to \\cite{Slotine_AppliedNonlinearControl_1991}, ch 8, the an adaptive control system is inherently nonlinear, and thus must be analyzed using Lyapunov theory.\n",
    "For my brief exploration of adaptive control I would rather find an adaptive control method that has already been proven using a standard control scheme like I learned in Control Systems (preferably PID).\n",
    "\n",
    "Adaptive cotnrol can be broken down into two broad forms: Model Reference Adaptive Control and Self Tuning Control.\n",
    "In model reference adaptive control, the reference signal is passed into both the controller and a reference model. \n",
    "An expected value, is output/computed by the reference model, whereas the true output is measured from the plant. \n",
    "The difference is taken and used to adjust the controller parameters.\n",
    "In self tuning control, the controller output and the plant output are passed into an estimator which estimates the plant parameters.\n",
    "These estimated parameters are then used by the controller.\n",
    "According to \\cite{Slotine_AppliedNonlinearControl_1991}, this estimation step can be performed by a least-squares estimation method.\n",
    "\n",
    "Self-tuning control can be separated into two methods: indirect adaptive control and direct adaptive control \\cite{Slotine_AppliedNonlinearControl_1991, Astrom_AutotuningPIDSurvey_1992}.\n",
    "Indirect adaptive control estimates the model of the plant and uses it to determine the controller parameters.\n",
    "This seems analogous to the typical control system design method of measuring plant characteristics and then using them to determine the controller parameters.\n",
    "The direct method directly adjusts/estimates the controller parameters from the output of the plant.\n",
    "\n",
    "\n",
    "\n",
    "\\subsection{Literature}\n",
    "[\\textbf{Fuzzy self-tuning of PID controllers}](https://www.dropbox.com/home/Reference/articles/other?preview=He_FuzzyPIDControl_1992.pdf) \\cite{He_FuzzyPIDControl_1992}\n",
    "\n",
    "This paper presents the self-tuning of a PID control system using a set of fuzzy logic. \n",
    "The authors reparameterize the gains of a PID controller using the Ziegler-Nichols method and then adjust the single parameter $\\alpha$ using fuzzy logic based on the system error and the derivative of the system error.\n",
    "This method makes sense, but it also seems to me that it is essentially a PD controller (albeit fuzzy) on a PID controller. \n",
    "\n",
    "[\\textbf{Automatic Tuning and Adaptation for PID Controllers - A Survey}](https://www.dropbox.com/home/Reference/articles/other?preview=Astrom_AutotuningPIDSurvey_1992.pdf) \\cite{Astrom_AutotuningPIDSurvey_1992}\n",
    "\n",
    "This paper gives an overview of adaptive control methods used with PID controllers. \n",
    "These are primarily self tuning methods.\n",
    "It describes several different techniques\n",
    "\\begin{itemize}\n",
    "    \\item Automatic Tuning - The controller tunes on demand from the user (press of a button).\n",
    "    \\item Gain scheduling - the controller parameters change due to varying operating conditions. The new parameters have been previously determined during the development of the controller.\n",
    "    \\item Adaptive control - parameters are continuously adjusted to accommodate changes in the plant dynamics. \n",
    "\\end{itemize}\n",
    "\n",
    "\\subsection{Work}\n",
    "Develop an adaptive controller for the two dimensional VTOL used in the control systems class.\n",
    "The relationship between commanded force and actual force imparted by the two motors will be the time varying parameters.\n",
    "They will vary following a random-walk model.\n",
    "\n",
    "\\begin{itemize}\n",
    "\\item Modify the dynamic model to use the time varying parameters. Allow modification of how the parameters vary.\n",
    "\\item Modify the controller to update the gains based on the varied parameters.\n",
    "\\item Write a recursive least-squares parameter estimator as in \\cite{Slotine_AppliedNonlinearControl_1991}, chapter 8.7.4.\n",
    "\\item Augment the estimator and the controller. \n",
    "\\item Perform a monte-carlo simulation to verify the controller/estimator over many different parameter configurations.\n",
    "\\end{itemize}\n",
    "\n"
   ]
  },
  {
   "cell_type": "markdown",
   "metadata": {},
   "source": [
    "# References\n",
    "\n",
    "[<a id=\"cit-Slotine_AppliedNonlinearControl_1991\" href=\"#call-Slotine_AppliedNonlinearControl_1991\">1</a>] !! _This reference was not found in ../bibliography/references.bib _ !!\n",
    "\n",
    "[<a id=\"cit-Astrom_AutotuningPIDSurvey_1992\" href=\"#call-Astrom_AutotuningPIDSurvey_1992\">2</a>] !! _This reference was not found in ../bibliography/references.bib _ !!\n",
    "\n"
   ]
  }
 ],
 "metadata": {
  "kernelspec": {
   "display_name": "Python 3",
   "language": "python",
   "name": "python3"
  },
  "language_info": {
   "codemirror_mode": {
    "name": "ipython",
    "version": 3
   },
   "file_extension": ".py",
   "mimetype": "text/x-python",
   "name": "python",
   "nbconvert_exporter": "python",
   "pygments_lexer": "ipython3",
   "version": "3.6.9"
  },
  "latex_envs": {
   "LaTeX_envs_menu_present": true,
   "autoclose": false,
   "autocomplete": true,
   "bibliofile": "../bibliography/references.bib",
   "cite_by": "number",
   "current_citInitial": 1,
   "eqLabelWithNumbers": true,
   "eqNumInitial": 1,
   "hotkeys": {
    "equation": "Ctrl-E",
    "itemize": "Ctrl-I"
   },
   "labels_anchors": false,
   "latex_user_defs": false,
   "report_style_numbering": false,
   "user_envs_cfg": false
  }
 },
 "nbformat": 4,
 "nbformat_minor": 2
}
