{
 "cells": [
  {
   "cell_type": "markdown",
   "metadata": {},
   "source": [
    "# Direct Collocation\n",
    "\n",
    "Direct collocation is a method for solving trajectory optimization problems of the form \n",
    "\\begin{align}\n",
    "&\\min && J(x,u)\\\\\n",
    "&\\text{wrt} && u\\\\\n",
    "&\\text{subject to} && \\dot{x} = f(x, u)\n",
    "\\end{align}\n",
    "\n",
    "This notebook references [An Introduction to Trajectory Optimization: How to Do Your Own Direct Collocation](https://epubs.siam.org/doi/pdf/10.1137/16M1062569) and follows section 2 in performing trajectory optimization for the sliding mass problem.\n"
   ]
  },
  {
   "cell_type": "markdown",
   "metadata": {},
   "source": [
    "---\n",
    "## Sliding Mass\n",
    "The dynamics of a unit sliding point mass with no friction are\n",
    "$$\n",
    "\\dot{x} = v \\\\\n",
    "\\dot{v} = u\n",
    "$$\n",
    "where $x$ is the position of the mass, $v$ is its velocity, and $u$ is the force applied to the block."
   ]
  },
  {
   "cell_type": "code",
   "execution_count": null,
   "metadata": {},
   "outputs": [],
   "source": [
    "def f(x, u):\n",
    "    \"\"\"\n",
    "    x: 2 element vector containing position (also x) and velocity x = [x, v]\n",
    "    u: single element vector containing applied force \n",
    "    \"\"\"\n",
    "    return np.array([x.item(1), u.item(0)])\n",
    "\n",
    "x0 = np.array([0., 0.]) # initial state\n",
    "xf = np.array([1., 0.]) # desired final state\n",
    "\n",
    "t0 = 0.\n",
    "tf = 1."
   ]
  }
 ],
 "metadata": {
  "kernelspec": {
   "display_name": "Python 3",
   "language": "python",
   "name": "python3"
  },
  "language_info": {
   "codemirror_mode": {
    "name": "ipython",
    "version": 3
   },
   "file_extension": ".py",
   "mimetype": "text/x-python",
   "name": "python",
   "nbconvert_exporter": "python",
   "pygments_lexer": "ipython3",
   "version": "3.6.9"
  }
 },
 "nbformat": 4,
 "nbformat_minor": 4
}
