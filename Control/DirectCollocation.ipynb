{
 "cells": [
  {
   "cell_type": "code",
   "execution_count": 68,
   "metadata": {},
   "outputs": [],
   "source": [
    "from mpl_toolkits.mplot3d import Axes3D\n",
    "import matplotlib \n",
    "matplotlib.rcParams['figure.figsize'] = [4., 3.]\n",
    "matplotlib.rcParams['figure.dpi'] = 200\n",
    "matplotlib.rcParams['font.size'] = 10.\n",
    "matplotlib.rcParams['text.usetex'] = True\n",
    "import matplotlib.pyplot as plt\n",
    "import numpy as np\n",
    "from scipy.integrate import odeint, solve_ivp\n",
    "import scipy\n",
    "from sympy import init_printing\n",
    "init_printing(use_latex='mathjax')\n",
    "import sympy as sp\n",
    "from IPython.display import Markdown as md"
   ]
  },
  {
   "cell_type": "markdown",
   "metadata": {},
   "source": [
    "# Direct Collocation\n",
    "\n",
    "Direct collocation is a method for solving trajectory optimization problems of the form \n",
    "\\begin{align}\n",
    "&\\min && J(x,u)\\\\\n",
    "&\\text{wrt} && u\\\\\n",
    "&\\text{subject to} && \\dot{x} = f(x, u)\n",
    "\\end{align}\n",
    "\n",
    "This notebook references [An Introduction to Trajectory Optimization: How to Do Your Own Direct Collocation](https://epubs.siam.org/doi/pdf/10.1137/16M1062569) and follows section 2 in performing trajectory optimization for the sliding mass problem.\n"
   ]
  },
  {
   "cell_type": "markdown",
   "metadata": {},
   "source": [
    "---\n",
    "## Sliding Mass\n",
    "The dynamics of a unit sliding point mass with no friction are\n",
    "$$\n",
    "\\dot{x} = v \\\\\n",
    "\\dot{v} = u\n",
    "$$\n",
    "where $x$ is the position of the mass, $v$ is its velocity, and $u$ is the force applied to the block."
   ]
  },
  {
   "cell_type": "code",
   "execution_count": 69,
   "metadata": {},
   "outputs": [],
   "source": [
    "def f(y):\n",
    "    \"\"\"\n",
    "    y: [x, v, u]\n",
    "    x: position\n",
    "    v: velocity \n",
    "    u: single element vector containing applied force \n",
    "    \"\"\"\n",
    "    x = y.item(0)\n",
    "    v = y.item(1)\n",
    "    u = y.item(2)\n",
    "    return np.array([v, u])"
   ]
  },
  {
   "cell_type": "markdown",
   "metadata": {},
   "source": [
    "### Initial and Final Conditions\n",
    "We desire the mass to slide from \n",
    "\\begin{align}\n",
    "x(0) = 0 && x(1) = 1 \\\\\n",
    "v(0) = 0 && v(1) = 0\n",
    "\\end{align}\n",
    "\n",
    "This also defines the timescale of the system. To initialize each knot point, we start with the assumption that the position of the block transitions linearly between the initial and final positions and then use the dynamics to find the related initial trajectory for $v$ and $u$:\n",
    "\\begin{align}\n",
    "&x_{init}(t) = t \\\\\n",
    "&v_{init}(t) = \\frac{d}{dt} x_{init} = 1 \\\\\n",
    "&u_{init}(t) = \\frac{d}{dt} v_{init} = 0\n",
    "\\end{align}"
   ]
  },
  {
   "cell_type": "code",
   "execution_count": 70,
   "metadata": {},
   "outputs": [],
   "source": [
    "x0 = np.array([0., 0.]) # initial state\n",
    "xf = np.array([1., 0.]) # desired final state\n",
    "u0 = 0.\n",
    "uf = 0.\n",
    "\n",
    "t0 = 0.\n",
    "tf = 1.\n",
    "\n",
    "N = 100 # number of knot points (in time)\n",
    "hk = (tf - t0)/N # timestep between knot points\n",
    "t = np.linspace(t0, tf, N)\n",
    "# initial conditions\n",
    "# x = t, v = dx/dt = 1, u = dv/dt = 0\n",
    "# y_vec = [[i, 1., 0.] for i in np.linspace(t0, tf, N)]\n",
    "y_vec = np.column_stack((t, 1.*t**0, 0.*t))\n",
    "y_vec = np.reshape(y_vec,(-1)) # make y_vec 1D"
   ]
  },
  {
   "cell_type": "markdown",
   "metadata": {},
   "source": [
    "### Objective Function\n",
    "The objective we want to minimize is \n",
    "$$\n",
    "\\int_0^1 u^2(\\tau) d\\tau.\n",
    "$$\n",
    "This can be approximated as a sum using trapezoidal quadrature\n",
    "$$\n",
    "\\int_0^1 u^2(\\tau) d\\tau \\approx \\sum_{k=0}^{N-1} \\frac12 h_k (u_k^2 + u_{k+1}^2)\n",
    "$$\n",
    "where $u_k$ is the $t^{th}$ knot point of $u$ and $h_k$ is the time between knot points."
   ]
  },
  {
   "cell_type": "code",
   "execution_count": 71,
   "metadata": {},
   "outputs": [],
   "source": [
    "def obj(y):\n",
    "    \"\"\"\n",
    "    The objective function to be minimized\n",
    "    \"\"\"\n",
    "    y = np.reshape(y, (-1,3)) # return to [[x,v,u],...,[x,v,u]]\n",
    "    u = y[:,2]\n",
    "    w = np.ones(u.shape)\n",
    "    w[1:-1] += 1. # w = [1 2 2 ... 2 1]\n",
    "    J = np.sum(.5*hk*(u**2)*w)\n",
    "    return J"
   ]
  },
  {
   "cell_type": "markdown",
   "metadata": {},
   "source": [
    "### Constraints\n",
    "There are two constraints to this problem:\n",
    "1. The boundary constraints:\n",
    "\\begin{align}\n",
    "x(0) = 0 && x(1) = 1 \\\\\n",
    "v(0) = 0 && v(1) = 0 \\\\\n",
    "u(0) = 0 && u(1) = 0\n",
    "\\end{align}\n",
    "2. The collocation or dynamic constraints:\n",
    "\\begin{align}\n",
    "\\dot{x} &= f(x, u) \\\\\n",
    "x_{k+1} - x_k &\\approx \\frac12 h_k (f_{k+1} + f_k)\n",
    "\\end{align}"
   ]
  },
  {
   "cell_type": "code",
   "execution_count": 72,
   "metadata": {},
   "outputs": [],
   "source": [
    "def boundcons(y):\n",
    "    \"\"\" Equality constraints \"\"\"\n",
    "    y = np.reshape(y, (-1,3))\n",
    "    consvec = []\n",
    "    consvec.append(y[0,0]  - x0[0]) # x(0) = 0\n",
    "    consvec.append(y[0,1]  - x0[1]) # v(0) = 0\n",
    "    consvec.append(y[0,2] - u0) # u(0) = 0\n",
    "    consvec.append(y[-1,0] - xf[0]) # x(1) = 1\n",
    "    consvec.append(y[-1,1] - xf[1]) # v(1) = 0\n",
    "    consvec.append(y[-1,2] - uf) # u(1) = 0\n",
    "    return np.array(consvec)\n",
    "\n",
    "def dyncons(y):\n",
    "    \"\"\" Equality Constraints \"\"\"\n",
    "    y = np.reshape(y, (-1,3))\n",
    "    consvec = []\n",
    "    fk = f(y[0,:])\n",
    "    for k in range(1, t.shape[0]):\n",
    "        fkp1 = f(y[k,:])\n",
    "        kcon = y[k,:2] - y[k-1,:2] - .5*hk*(fkp1+fk)\n",
    "        consvec.append([kcon])\n",
    "    return np.reshape(np.array(consvec), -1) # return as 1D array\n",
    "\n",
    "# print(dyncons(y_vec))\n",
    "# print(boundcons(y_vec))"
   ]
  },
  {
   "cell_type": "markdown",
   "metadata": {},
   "source": [
    "### Solve!\n",
    "Everything is now ready to solve the optimization problem"
   ]
  },
  {
   "cell_type": "code",
   "execution_count": 73,
   "metadata": {},
   "outputs": [
    {
     "name": "stdout",
     "output_type": "stream",
     "text": [
      "Success: True\n",
      "Optimal objective value: 204.0178770733722\n"
     ]
    }
   ],
   "source": [
    "# import pdb; pdb.set_trace()\n",
    "ret = scipy.optimize.minimize(\n",
    "        obj,\n",
    "        y_vec,\n",
    "        method='SLSQP',\n",
    "        constraints=[\n",
    "            {'type':'eq', 'fun':boundcons},\n",
    "            {'type':'eq', 'fun':dyncons}\n",
    "        ])\n",
    "print(\"Success:\", ret.success)\n",
    "print(\"Optimal objective value:\", ret.fun)\n",
    "y_opt_minctrl = np.reshape(ret.x, (-1, 3))"
   ]
  },
  {
   "cell_type": "code",
   "execution_count": 74,
   "metadata": {},
   "outputs": [
    {
     "data": {
      "image/png": "[encoded data removed]",
      "text/plain": [
       "<Figure size 800x600 with 3 Axes>"
      ]
     },
     "metadata": {
      "needs_background": "light"
     },
     "output_type": "display_data"
    }
   ],
   "source": [
    "fig, ax = plt.subplots(3,1, sharex=True)\n",
    "ax[0].plot(t, y_opt_minctrl[:,0])\n",
    "ax[0].set_ylabel('x')\n",
    "\n",
    "ax[1].plot(t, y_opt_minctrl[:,1])\n",
    "ax[1].set_ylabel('v')\n",
    "\n",
    "ax[2].plot(t, y_opt_minctrl[:,2])\n",
    "ax[2].set_ylabel('u')\n",
    "ax[2].set_xlabel('x')\n",
    "pass"
   ]
  },
  {
   "cell_type": "markdown",
   "metadata": {},
   "source": [
    "## Minimum Time\n",
    "It may be desireable to leave $T_f$ free to allow the optimization more flexibility in acheiving the objective function.\n",
    "To do so, we simply augment our vector of design variables $y$ to include $T_f$. Then, we recompute the value of $h_k$ each time a function which uses it is called.\n",
    "\n",
    "Below, we modify the objective and the constraints to allow $T_f$ to vary.\n",
    "\n",
    "We create a new objective function to minimize, which is $J = T_f$. This produces the \"minimum time\" solution to this problem. \n",
    "\n",
    "Without limits on the control input, the minimum time problem simply becomes the question of cranking up the control input until some sort of numerical instability occurs that leads to a minimum. So, we set the following bounds on the control input\n",
    "\\begin{align}\n",
    "u_\\text{min} \\leq u \\leq u_\\text{max}\n",
    "\\end{align}"
   ]
  },
  {
   "cell_type": "code",
   "execution_count": 75,
   "metadata": {},
   "outputs": [],
   "source": [
    "x0 = np.array([0., 0.]) # initial state\n",
    "xf = np.array([1., 0.]) # desired final state\n",
    "\n",
    "umin = -1.\n",
    "umax = 1.\n",
    "\n",
    "t0 = 0.\n",
    "tf = 1.\n",
    "\n",
    "N = 100 # number of knot points (in time)\n",
    "hk = (tf - t0)/N # timestep between knot points\n",
    "t = np.linspace(t0, tf, N)\n",
    "# initial conditions\n",
    "# x = t, v = dx/dt = 1, u = dv/dt = 0\n",
    "# y_vec = [[i, 1., 0.] for i in np.linspace(t0, tf, N)]\n",
    "y_vec = np.column_stack((t, 1.*t**0, 0.*t))\n",
    "y_vec = np.reshape(y_vec,(-1)) # make y_vec 1D\n",
    "y_vec = np.append(y_vec, [1.]) # tf = 1 as initial condition"
   ]
  },
  {
   "cell_type": "code",
   "execution_count": 76,
   "metadata": {},
   "outputs": [],
   "source": [
    "def obj(y):\n",
    "    \"\"\"\n",
    "    The objective function to be minimized\n",
    "    \"\"\"\n",
    "    tf = y[-1] # last design variable is the final time\n",
    "    return tf"
   ]
  },
  {
   "cell_type": "code",
   "execution_count": 77,
   "metadata": {},
   "outputs": [],
   "source": [
    "def boundcons(y):\n",
    "    \"\"\" Equality constraints \"\"\"\n",
    "    tf = y[-1] # last design variable is the final time\n",
    "    y = np.reshape(y[:-1], (-1,3))\n",
    "    epconsvec = []\n",
    "    epconsvec.append(y[0,0]  - x0[0]) # x(0) = 0\n",
    "    epconsvec.append(y[0,1]  - x0[1]) # v(0) = 0\n",
    "    epconsvec.append(y[-1,0] - xf[0]) # x(1) = 1\n",
    "    epconsvec.append(y[-1,1] - xf[1]) # v(1) = 0\n",
    "    epcons = np.array(epconsvec)\n",
    "\n",
    "    return epcons\n",
    "\n",
    "def dyncons(y):\n",
    "    \"\"\" Equality Constraints \"\"\"\n",
    "    tf = y[-1] # last design variable is the final time\n",
    "    hk = (tf - t0)/N # timestep between knot points\n",
    "    y = np.reshape(y[:-1], (-1,3))\n",
    "    consvec = []\n",
    "    fk = f(y[0,:])\n",
    "    for k in range(1, t.shape[0]):\n",
    "        fkp1 = f(y[k,:])\n",
    "        kcon = y[k,:2] - y[k-1,:2] - .5*hk*(fkp1+fk)\n",
    "        consvec.append([kcon])\n",
    "    return np.reshape(np.array(consvec), -1) # return as 1D array\n",
    "\n",
    "def ineqcons(y):\n",
    "    \"\"\" Inequality bound constraint - final time must be positive\"\"\"\n",
    "    tf = y[-1] # last design variable is the final time\n",
    "    y = np.reshape(y[:-1], (-1,3))\n",
    "    #constrain control input\n",
    "    # umin <= u <= umax\n",
    "    umincons = y[:,2] - umin\n",
    "    umaxcons = umax - y[:,2]\n",
    "    timecon = y[-1] # must be positive\n",
    "    \n",
    "    cons = np.concatenate([umincons, umaxcons, timecon])\n",
    "    return cons\n"
   ]
  },
  {
   "cell_type": "code",
   "execution_count": 78,
   "metadata": {},
   "outputs": [
    {
     "name": "stdout",
     "output_type": "stream",
     "text": [
      "Success: True\n",
      "Optimal objective value: 4.081632652953029\n",
      "Optimal time:  4.081632652953029\n"
     ]
    }
   ],
   "source": [
    "# import pdb; pdb.set_trace()\n",
    "ret = scipy.optimize.minimize(\n",
    "        obj,\n",
    "        y_vec,\n",
    "        method='SLSQP',\n",
    "        constraints=[\n",
    "            {'type':'eq', 'fun':boundcons},\n",
    "            {'type':'eq', 'fun':dyncons},\n",
    "            {'type':'ineq', 'fun':ineqcons}\n",
    "        ])\n",
    "print(\"Success:\", ret.success)\n",
    "print(\"Optimal objective value:\", ret.fun)\n",
    "tf_opt = ret.x[-1]\n",
    "y_opt_mintime = np.reshape(ret.x[:-1], (-1, 3))\n",
    "print(\"Optimal time: \", tf_opt)\n"
   ]
  },
  {
   "cell_type": "code",
   "execution_count": 79,
   "metadata": {},
   "outputs": [
    {
     "data": {
      "image/png": "[encoded data removed]",
      "text/plain": [
       "<Figure size 800x600 with 3 Axes>"
      ]
     },
     "metadata": {
      "needs_background": "light"
     },
     "output_type": "display_data"
    }
   ],
   "source": [
    "t = np.linspace(t0, tf_opt, N)\n",
    "fig, ax = plt.subplots(3,1, sharex=True)\n",
    "ax[0].plot(t, y_opt_mintime[:,0])\n",
    "ax[0].set_ylabel('x')\n",
    "\n",
    "ax[1].plot(t, y_opt_mintime[:,1])\n",
    "ax[1].set_ylabel('v')\n",
    "\n",
    "ax[2].plot(t, y_opt_mintime[:,2])\n",
    "ax[2].set_ylabel('u')\n",
    "ax[2].set_xlabel(\"t\")\n",
    "pass"
   ]
  },
  {
   "cell_type": "markdown",
   "metadata": {},
   "source": [
    "This shows how the optimal time trajectory produces extremely large control inputs. This becomes a tradeoff between minimizing time and minimizing control effort."
   ]
  },
  {
   "cell_type": "markdown",
   "metadata": {},
   "source": [
    "### Interpolation\n",
    "It turns out that when using trapezoidal collocation, the control $u$ is represented as a linear spline and the state trajectory is represented by a quadratic spline. That is, with $t \\in [t_k, t_{k+1}]$, $\\tau = t - t_k$, and $h_k = t_{k+1} - t_k$,\n",
    "\\begin{align}\n",
    "u(t) &= u_k + \\frac{\\tau}{h_k}(u_{k+1} - u_k)\\\\\n",
    "x(t) &= x_k + (\\tau)f_k + \\frac{\\tau^2}{2 h_k} (f_{k+1} - f_k)\n",
    "\\end{align}"
   ]
  }
 ],
 "metadata": {
  "kernelspec": {
   "display_name": "Python 3.6.9 64-bit ('default_venv': virtualenv)",
   "language": "python",
   "name": "python36964bitdefaultvenvvirtualenv51341756e8f34187a0602b11eacffea9"
  },
  "language_info": {
   "codemirror_mode": {
    "name": "ipython",
    "version": 3
   },
   "file_extension": ".py",
   "mimetype": "text/x-python",
   "name": "python",
   "nbconvert_exporter": "python",
   "pygments_lexer": "ipython3",
   "version": "3.8.5"
  }
 },
 "nbformat": 4,
 "nbformat_minor": 4
}
