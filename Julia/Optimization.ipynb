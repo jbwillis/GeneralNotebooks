{
 "cells": [
  {
   "cell_type": "markdown",
   "metadata": {},
   "source": [
    "# Intro to optimization with Julia\n",
    "This summarizes how to set up an optimization problem for Julia.\n",
    "\n",
    "I will be solving the Rosenbrock problem:\n",
    "\\begin{align}\n",
    "&\\text{min} && (1 - x)^2 + 100(y - x^2)^2\n",
    "\\end{align}\n",
    "with and without the nonlinear constraint\n",
    "$$\n",
    "y^2 \\geq x^2\n",
    "$$"
   ]
  },
  {
   "cell_type": "code",
   "execution_count": 2,
   "metadata": {},
   "outputs": [],
   "source": [
    "using Snopt # github.com/byuflowlab/snopt.jl\n",
    "using Plots"
   ]
  },
  {
   "cell_type": "code",
   "execution_count": 10,
   "metadata": {},
   "outputs": [
    {
     "name": "stdout",
     "output_type": "stream",
     "text": [
      "[1.0, 1.0]\n",
      "9.445254230258317e-13\n",
      "Finished successfully: requested accuracy could not be achieved\n"
     ]
    }
   ],
   "source": [
    "function rosenbrock(x)\n",
    "    f = (1 - x[1])^2 + 100*(x[2] - x[1]^2)^2 # objective\n",
    "    c = []\n",
    "    fail = false # failed to evaluate objective\n",
    "    return f, c, fail\n",
    "end\n",
    "    \n",
    "x0 = [4.0; 4.0]\n",
    "lb = [-5.0; -5.0]\n",
    "ub = [5.0; 5.0]\n",
    "options = Dict{String, Any}()\n",
    "options[\"Derivative option\"] = 0\n",
    "options[\"Major optimality tolerance\"] = 1e-6\n",
    "\n",
    "xopt, fopt, info = snopt(rosenbrock, x0, lb, ub, options)\n",
    "println(xopt)\n",
    "println(fopt)\n",
    "println(info)"
   ]
  },
  {
   "cell_type": "code",
   "execution_count": 9,
   "metadata": {},
   "outputs": [
    {
     "name": "stdout",
     "output_type": "stream",
     "text": [
      "[1.41214, 1.99707]\n",
      "0.17096748360347055\n",
      "Finished successfully: optimality conditions satisfied\n"
     ]
    }
   ],
   "source": [
    "function rosenbrock(x)\n",
    "    f = (1 - x[1])^2 + 100*(x[2] - x[1]^2)^2 # objective\n",
    "    c = zeros(1)\n",
    "    c[1] = 2*x[1]^2 - x[2]^2 # constraints\n",
    "    fail = false # failed to evaluate objective\n",
    "    return f, c, fail\n",
    "end\n",
    "    \n",
    "x0 = [4.0; 4.0]\n",
    "lb = [-5.0; -5.0]\n",
    "ub = [5.0; 5.0]\n",
    "options = Dict{String, Any}()\n",
    "options[\"Derivative option\"] = 0\n",
    "options[\"Major optimality tolerance\"] = 1e-6\n",
    "\n",
    "xopt, fopt, info = snopt(rosenbrock, x0, lb, ub, options)\n",
    "println(xopt)\n",
    "println(fopt)\n",
    "println(info)\n"
   ]
  }
 ],
 "metadata": {
  "kernelspec": {
   "display_name": "Julia 1.0.4",
   "language": "julia",
   "name": "julia-1.0"
  },
  "language_info": {
   "file_extension": ".jl",
   "mimetype": "application/julia",
   "name": "julia",
   "version": "1.0.4"
  }
 },
 "nbformat": 4,
 "nbformat_minor": 4
}
