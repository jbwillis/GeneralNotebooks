{
 "cells": [
  {
   "cell_type": "markdown",
   "metadata": {},
   "source": [
    "# Julia Intro\n",
    "This is just a collection of me trying things out in Julia"
   ]
  },
  {
   "cell_type": "code",
   "execution_count": 1,
   "metadata": {},
   "outputs": [
    {
     "name": "stdout",
     "output_type": "stream",
     "text": [
      "[1, 2, 3, 4]\n",
      "[1 2 3 4]\n",
      "30\n",
      "[1 2 3 4; 2 4 6 8; 3 6 9 12; 4 8 12 16]\n",
      "3\n",
      "[1, 2, 3]\n",
      "[1, 2]\n",
      "[1, 2, 1, 2, 3]\n",
      "[2, 3, 4]\n",
      "[2, 3, 4]\n",
      "[2, 4]\n"
     ]
    }
   ],
   "source": [
    "A = [1, 2, 3, 4] # commas or semicolons create column vectors\n",
    "println(A)\n",
    "println(A')\n",
    "println(A'*A)\n",
    "println(A*A')\n",
    "println(A[3])\n",
    "println(A[1:3])\n",
    "\n",
    "a = A[1:2]\n",
    "println(a)\n",
    "b = A[1:3]\n",
    "c = vcat(a,b)\n",
    "println(c)\n",
    "\n",
    "println(A[end-2:end])\n",
    "println(A[2:end])\n",
    "println(A[[2,4]])"
   ]
  },
  {
   "cell_type": "code",
   "execution_count": 18,
   "metadata": {},
   "outputs": [
    {
     "name": "stdout",
     "output_type": "stream",
     "text": [
      "[1, 4, 9]\n",
      "6\n"
     ]
    }
   ],
   "source": [
    "u = [1, 2, 3]\n",
    "println(u.^2)\n",
    "println(sum(u))"
   ]
  }
 ],
 "metadata": {
  "kernelspec": {
   "display_name": "Julia 1.3.1",
   "language": "julia",
   "name": "julia-1.3"
  },
  "language_info": {
   "file_extension": ".jl",
   "mimetype": "application/julia",
   "name": "julia",
   "version": "1.3.1"
  }
 },
 "nbformat": 4,
 "nbformat_minor": 4
}
