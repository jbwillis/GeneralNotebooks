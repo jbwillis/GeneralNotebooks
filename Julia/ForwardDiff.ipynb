{
 "cells": [
  {
   "cell_type": "code",
   "execution_count": 2,
   "id": "18860be7-7a1c-425e-a39c-2b0ee3012d3c",
   "metadata": {},
   "outputs": [
    {
     "data": {
      "text/plain": [
       "8×8 Matrix{Float64}:\n",
       " 1.0  0.0  0.0  0.0  0.0  0.0  0.0  0.0\n",
       " 0.0  2.0  0.0  0.0  0.0  0.0  0.0  0.0\n",
       " 0.0  0.0  3.0  0.0  0.0  0.0  0.0  0.0\n",
       " 0.0  0.0  0.0  4.0  0.0  0.0  0.0  0.0\n",
       " 0.0  0.0  0.0  0.0  5.0  0.0  0.0  0.0\n",
       " 0.0  0.0  0.0  0.0  0.0  6.0  0.0  0.0\n",
       " 0.0  0.0  0.0  0.0  0.0  0.0  7.0  0.0\n",
       " 0.0  0.0  0.0  0.0  0.0  0.0  0.0  8.0"
      ]
     },
     "execution_count": 2,
     "metadata": {},
     "output_type": "execute_result"
    }
   ],
   "source": [
    "using ForwardDiff\n",
    "using LinearAlgebra\n",
    "\n",
    "A = diagm(1:6)\n",
    "f(x::Vector) = diagm(1:length(x)) * x\n",
    "\n",
    "J = x -> ForwardDiff.jacobian(f, x)\n",
    "\n",
    "b = ones(8)\n",
    "\n",
    "J(b)"
   ]
  },
  {
   "cell_type": "markdown",
   "id": "9ca23161-caf5-4843-9fed-12872c55f781",
   "metadata": {},
   "source": [
    "# `mod2pi`\n",
    "One strange thing I've noticed is that applying forwarddiff to `mod2pi` will output `NaN` at the discontinuites. This makes sense if you're thinking about the input in euclidian space, but since it's typically used for angles, the difference between $0$ and $2\\pi$ should be zero, and therefore the derivative should be zero.\n",
    "\n",
    "A workaround is to use `res2pi(x, RoundDown)` instead of `mod2pi`."
   ]
  },
  {
   "cell_type": "code",
   "execution_count": 4,
   "id": "6bc2fef0-4b31-480e-a956-85a2587b63a2",
   "metadata": {},
   "outputs": [
    {
     "name": "stdout",
     "output_type": "stream",
     "text": [
      "ForwardDiff.derivative(mod2pi, 0.0) = NaN\n",
      "ForwardDiff.derivative(mod2pi, 0.1) = 1.0\n",
      "ForwardDiff.derivative((x->begin\n",
      "            #= In[4]:4 =#\n",
      "            rem2pi(x, RoundDown)\n",
      "        end), 0.0) = 1.0\n",
      "ForwardDiff.derivative((x->begin\n",
      "            #= In[4]:5 =#\n",
      "            rem2pi(x, RoundDown)\n",
      "        end), 0.1) = 1.0\n"
     ]
    },
    {
     "data": {
      "text/plain": [
       "1.0"
      ]
     },
     "execution_count": 4,
     "metadata": {},
     "output_type": "execute_result"
    }
   ],
   "source": [
    "@show ForwardDiff.derivative(mod2pi, 0.0)\n",
    "@show ForwardDiff.derivative(mod2pi, 0.1)\n",
    "\n",
    "@show ForwardDiff.derivative(x -> rem2pi(x, RoundDown), 0.0)\n",
    "@show ForwardDiff.derivative(x -> rem2pi(x, RoundDown), 0.1)"
   ]
  },
  {
   "cell_type": "code",
   "execution_count": null,
   "id": "36a96ae3-31e2-4afa-a03b-3741c5c21aba",
   "metadata": {},
   "outputs": [],
   "source": []
  }
 ],
 "metadata": {
  "kernelspec": {
   "display_name": "Julia 1.6.2",
   "language": "julia",
   "name": "julia-1.6"
  },
  "language_info": {
   "file_extension": ".jl",
   "mimetype": "application/julia",
   "name": "julia",
   "version": "1.6.2"
  }
 },
 "nbformat": 4,
 "nbformat_minor": 5
}
